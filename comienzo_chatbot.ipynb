{
 "cells": [
  {
   "cell_type": "code",
   "execution_count": 1,
   "metadata": {},
   "outputs": [],
   "source": [
    "from sklearn.preprocessing import LabelEncoder\n",
    "import nltk\n",
    "from nltk.chat.util import Chat, reflections"
   ]
  },
  {
   "cell_type": "code",
   "execution_count": null,
   "metadata": {},
   "outputs": [],
   "source": [
    "\n",
    "preguntas_prueba = {\n",
    "    'Quiero reservar una cita para el doctor Martínez, por favor.': 'consulta_turno',\n",
    "    'Necesito agendar una hora médica para revisión de resultados.': 'consulta_turno',\n",
    "    '¿Cuáles son los especialistas disponibles para una consulta?': 'informacion_medico',\n",
    "    'Quisiera saber la información del médico que atiende en la clínica este mes.': 'informacion_medico',\n",
    "    'Necesito cambiar mi cita para la próxima semana.': 'cancelar_turno',\n",
    "    'Deseo anular la cita que tenía programada para mañana por la tarde.': 'cancelar_turno',\n",
    "    '¿Cuáles son los horarios de atención para hoy?': 'pregunta_horario',\n",
    "    '¿Está la clínica abierta los fines de semana?': 'pregunta_horario',\n",
    "    'Por favor, confírmame la cita que tengo para el viernes a las 10 a.m.': 'confirmacion_turno',\n",
    "    'Quiero verificar si mi cita médica está confirmada para el próximo martes.': 'confirmacion_turno',\n",
    "    '¿Cuál es el área médica de la clínica?': 'pregunta_especialidad',\n",
    "    '¿Qué tipo de especialidades clínicas ofrecen?': 'pregunta_especialidad',\n",
    "    'Necesito asistencia, ¿podrían ayudarme?': 'ayuda_general',\n",
    "    'Por favor, ¿me pueden brindar apoyo con una duda que tengo?': 'ayuda_general',\n",
    "    '¿Cuál es la dirección de la clínica?': 'informacion_clinica',\n",
    "    '¿Dónde están ubicados exactamente?': 'informacion_clinica',\n",
    "    'Quiero poner una queja sobre la atención recibida la última vez.': 'reclamacion',\n",
    "    'Tengo un problema con el servicio que me brindaron, ¿cómo puedo reportarlo?': 'reclamacion',\n",
    "    '¿Cuáles son las formas de pago aceptadas para la consulta?': 'pregunta_pago',\n",
    "    '¿Podría informarme sobre las tarifas de las consultas médicas?': 'pregunta_pago',\n",
    "    'Gracias por la atención, me siento muy agradecido.': 'agradecimiento',\n",
    "    'Mil gracias por la ayuda, estoy muy agradecido con ustedes.': 'agradecimiento',\n",
    "    '¿Dónde puedo obtener los resultados de los análisis que me realicé?': 'consulta_resultados',\n",
    "    'Quiero información sobre los informes médicos de las pruebas que me hicieron.': 'consulta_resultados',\n",
    "    'Necesito renovar mi receta médica, ¿cómo debo proceder?': 'pregunta_receta',\n",
    "    '¿Cómo puedo obtener una nueva receta médica para mis medicamentos?': 'pregunta_receta',\n",
    "    '¿Cuánto tiempo de espera hay para una consulta?': 'pregunta_espera',\n",
    "    '¿Cuál es la demora promedio para obtener un turno con el especialista?': 'pregunta_espera',\n",
    "    '¿Qué coberturas médicas aceptan en la clínica?': 'consulta_seguro',\n",
    "    '¿Cuáles son las aseguradoras con las que trabajan?': 'consulta_seguro',\n",
    "    '¿Pueden proporcionarme un mapa o indicaciones para llegar a la clínica?': 'pregunta_ubicacion',\n",
    "    '¿Cómo puedo llegar a la clínica desde el centro de la ciudad?': 'pregunta_ubicacion',\n",
    "    'Necesito un certificado médico para justificar mi ausencia laboral.': 'pregunta_certificado',\n",
    "    '¿Dónde puedo obtener un informe de ausencia por motivos médicos?': 'pregunta_certificado',\n",
    "    '¿Cuál es el diagnóstico médico de mi enfermedad?': 'pregunta_diagnostico',\n",
    "    '¿Tienen información sobre los resultados del diagnóstico que me realizaron?': 'pregunta_diagnostico',\n",
    "    'Tengo una emergencia médica, ¿qué debo hacer?': 'pregunta_emergencia',\n",
    "    '¿Cuál es el procedimiento en caso de una situación de urgencia médica?': 'pregunta_emergencia'\n",
    "}\n",
    "# Crear listas para almacenar preguntas y etiquetas\n",
    "preguntas = []\n",
    "etiquetas = []\n",
    "\n",
    "# Iterar sobre el diccionario para obtener las preguntas y etiquetas\n",
    "for pregunta, etiqueta in preguntas_prueba.items():\n",
    "    preguntas.append(pregunta)\n",
    "    etiquetas.append(etiqueta)\n",
    "\n",
    "\n",
    "indice_etiquetas = {}\n",
    "\n",
    "cont = 0\n",
    "\n",
    "for x in etiquetas:\n",
    "    if x not in indice_etiquetas:\n",
    "        indice_etiquetas[x] = cont\n",
    "        cont+=1\n",
    "\n",
    "etiquetas_usar = []\n",
    "\n",
    "for x in etiquetas:\n",
    "    etiquetas_usar.append(indice_etiquetas[x])\n",
    "    \n",
    "etiquetas_usar"
   ]
  },
  {
   "cell_type": "code",
   "execution_count": 11,
   "metadata": {},
   "outputs": [
    {
     "name": "stderr",
     "output_type": "stream",
     "text": [
      "Some weights of BertForSequenceClassification were not initialized from the model checkpoint at bert-base-uncased and are newly initialized: ['classifier.bias', 'classifier.weight']\n",
      "You should probably TRAIN this model on a down-stream task to be able to use it for predictions and inference.\n",
      "  0%|          | 0/15 [00:18<?, ?it/s]\n",
      "                                               \n",
      "100%|██████████| 15/15 [00:14<00:00,  1.04it/s]"
     ]
    },
    {
     "name": "stdout",
     "output_type": "stream",
     "text": [
      "{'train_runtime': 14.398, 'train_samples_per_second': 7.918, 'train_steps_per_second': 1.042, 'train_loss': 2.9408236185709637, 'epoch': 3.0}\n"
     ]
    },
    {
     "name": "stderr",
     "output_type": "stream",
     "text": [
      "\n"
     ]
    },
    {
     "data": {
      "text/plain": [
       "TrainOutput(global_step=15, training_loss=2.9408236185709637, metrics={'train_runtime': 14.398, 'train_samples_per_second': 7.918, 'train_steps_per_second': 1.042, 'train_loss': 2.9408236185709637, 'epoch': 3.0})"
      ]
     },
     "execution_count": 11,
     "metadata": {},
     "output_type": "execute_result"
    }
   ],
   "source": [
    "from transformers import BertForSequenceClassification, BertTokenizer, Trainer, TrainingArguments\n",
    "import torch\n",
    "\n",
    "# Cargar el modelo pre-entrenado y el tokenizador de BERT\n",
    "model = BertForSequenceClassification.from_pretrained('bert-base-uncased', num_labels=19)  # Reemplaza NUM_LABELS por el número de clases de tu tarea\n",
    "tokenizer = BertTokenizer.from_pretrained('bert-base-uncased')\n",
    "\n",
    "# Ejemplo de datos de entrenamiento (reemplaza con tus propios datos)\n",
    "train_texts = preguntas\n",
    "train_labels = etiquetas_usar\n",
    "\n",
    "\n",
    "# Tokenizar los textos y convertirlos a IDs de token\n",
    "train_encodings = tokenizer(train_texts, truncation=True, padding=True)\n",
    "\n",
    "# Convertir etiquetas a tensores de PyTorch\n",
    "train_labels = torch.tensor(train_labels)\n",
    "\n",
    "# Clase para el entrenamiento personalizado\n",
    "class CustomDataset(torch.utils.data.Dataset):\n",
    "    def __init__(self, encodings, labels):\n",
    "        self.encodings = encodings\n",
    "        self.labels = labels\n",
    "\n",
    "    def __getitem__(self, idx):\n",
    "        item = {key: torch.tensor(val[idx]) for key, val in self.encodings.items()}\n",
    "        item['labels'] = self.labels[idx]\n",
    "        return item\n",
    "\n",
    "    def __len__(self):\n",
    "        return len(self.labels)\n",
    "\n",
    "# Crear instancias de datasets de entrenamiento y validación\n",
    "train_dataset = CustomDataset(train_encodings, train_labels)\n",
    "\n",
    "# Argumentos y configuraciones de entrenamiento\n",
    "training_args = TrainingArguments(\n",
    "    output_dir='./results',  # Directorio de salida\n",
    "    num_train_epochs=3,  # Número de epochs (ajusta según tus necesidades)\n",
    "    per_device_train_batch_size=8,  # Tamaño de lote por dispositivo (ajusta según tus recursos)\n",
    "    logging_dir='./logs',  # Directorio de logs\n",
    ")\n",
    "\n",
    "# Entrenamiento del modelo\n",
    "trainer = Trainer(\n",
    "    model=model,\n",
    "    args=training_args,\n",
    "    train_dataset=train_dataset,\n",
    ")\n",
    "\n",
    "trainer.train()  # Iniciar el entrenamiento\n"
   ]
  },
  {
   "cell_type": "code",
   "execution_count": 12,
   "metadata": {},
   "outputs": [
    {
     "name": "stdout",
     "output_type": "stream",
     "text": [
      "Etiqueta predicha: 14\n"
     ]
    }
   ],
   "source": [
    "# Suponiendo que tienes un texto para realizar predicciones\n",
    "text_to_predict = \"Otro turno\"\n",
    "\n",
    "# Tokenizar el texto para el modelo\n",
    "inputs = tokenizer(text_to_predict, return_tensors=\"pt\")\n",
    "\n",
    "# Realizar la predicción utilizando el modelo entrenado\n",
    "outputs = model(**inputs)\n",
    "\n",
    "# Obtener la predicción de la etiqueta\n",
    "predicted_label = torch.argmax(outputs.logits, dim=1).item()\n",
    "\n",
    "# Mostrar la etiqueta predicha\n",
    "print(f\"Etiqueta predicha: {predicted_label}\")\n"
   ]
  },
  {
   "cell_type": "code",
   "execution_count": null,
   "metadata": {},
   "outputs": [],
   "source": []
  }
 ],
 "metadata": {
  "kernelspec": {
   "display_name": "venv",
   "language": "python",
   "name": "python3"
  },
  "language_info": {
   "codemirror_mode": {
    "name": "ipython",
    "version": 3
   },
   "file_extension": ".py",
   "mimetype": "text/x-python",
   "name": "python",
   "nbconvert_exporter": "python",
   "pygments_lexer": "ipython3",
   "version": "3.11.7"
  }
 },
 "nbformat": 4,
 "nbformat_minor": 2
}
