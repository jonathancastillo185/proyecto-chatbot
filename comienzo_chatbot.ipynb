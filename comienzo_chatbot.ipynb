{
 "cells": [
  {
   "cell_type": "code",
   "execution_count": 1,
   "metadata": {},
   "outputs": [
    {
     "name": "stderr",
     "output_type": "stream",
     "text": [
      "C:\\Users\\jonat\\AppData\\Local\\Packages\\PythonSoftwareFoundation.Python.3.11_qbz5n2kfra8p0\\LocalCache\\local-packages\\Python311\\site-packages\\tqdm\\auto.py:21: TqdmWarning: IProgress not found. Please update jupyter and ipywidgets. See https://ipywidgets.readthedocs.io/en/stable/user_install.html\n",
      "  from .autonotebook import tqdm as notebook_tqdm\n"
     ]
    }
   ],
   "source": [
    "from sklearn.model_selection import KFold\n",
    "from transformers import BertForSequenceClassification, BertTokenizer\n",
    "import torch\n",
    "import pandas as pd\n",
    "import torch.nn.functional as F"
   ]
  },
  {
   "cell_type": "code",
   "execution_count": 2,
   "metadata": {},
   "outputs": [],
   "source": [
    "train_dataset = pd.read_csv('train_data.csv')\n"
   ]
  },
  {
   "cell_type": "code",
   "execution_count": 4,
   "metadata": {},
   "outputs": [
    {
     "data": {
      "text/html": [
       "<div>\n",
       "<style scoped>\n",
       "    .dataframe tbody tr th:only-of-type {\n",
       "        vertical-align: middle;\n",
       "    }\n",
       "\n",
       "    .dataframe tbody tr th {\n",
       "        vertical-align: top;\n",
       "    }\n",
       "\n",
       "    .dataframe thead th {\n",
       "        text-align: right;\n",
       "    }\n",
       "</style>\n",
       "<table border=\"1\" class=\"dataframe\">\n",
       "  <thead>\n",
       "    <tr style=\"text-align: right;\">\n",
       "      <th></th>\n",
       "      <th>Texto</th>\n",
       "      <th>Etiqueta</th>\n",
       "    </tr>\n",
       "  </thead>\n",
       "  <tbody>\n",
       "    <tr>\n",
       "      <th>0</th>\n",
       "      <td>¿Puedo reservar un turno para la próxima semana?</td>\n",
       "      <td>0</td>\n",
       "    </tr>\n",
       "    <tr>\n",
       "      <th>1</th>\n",
       "      <td>Quisiera agendar una cita médica para el marte...</td>\n",
       "      <td>0</td>\n",
       "    </tr>\n",
       "    <tr>\n",
       "      <th>2</th>\n",
       "      <td>¿Están disponibles los turnos para el especial...</td>\n",
       "      <td>0</td>\n",
       "    </tr>\n",
       "    <tr>\n",
       "      <th>3</th>\n",
       "      <td>Necesito una cita con el odontólogo lo antes p...</td>\n",
       "      <td>0</td>\n",
       "    </tr>\n",
       "    <tr>\n",
       "      <th>4</th>\n",
       "      <td>¿Podría obtener un horario para una consulta d...</td>\n",
       "      <td>0</td>\n",
       "    </tr>\n",
       "    <tr>\n",
       "      <th>...</th>\n",
       "      <td>...</td>\n",
       "      <td>...</td>\n",
       "    </tr>\n",
       "    <tr>\n",
       "      <th>1052</th>\n",
       "      <td>seguro de salud de la institución</td>\n",
       "      <td>5</td>\n",
       "    </tr>\n",
       "    <tr>\n",
       "      <th>1053</th>\n",
       "      <td>seguro de seguro de salud aceptado por la inst...</td>\n",
       "      <td>5</td>\n",
       "    </tr>\n",
       "    <tr>\n",
       "      <th>1054</th>\n",
       "      <td>seguro de seguro médico que acepta la institución</td>\n",
       "      <td>5</td>\n",
       "    </tr>\n",
       "    <tr>\n",
       "      <th>1055</th>\n",
       "      <td>seguro de enfermedad aceptado por la clínica</td>\n",
       "      <td>5</td>\n",
       "    </tr>\n",
       "    <tr>\n",
       "      <th>1056</th>\n",
       "      <td>seguro de seguro de salud que acepta la instit...</td>\n",
       "      <td>5</td>\n",
       "    </tr>\n",
       "  </tbody>\n",
       "</table>\n",
       "<p>1057 rows × 2 columns</p>\n",
       "</div>"
      ],
      "text/plain": [
       "                                                  Texto  Etiqueta\n",
       "0      ¿Puedo reservar un turno para la próxima semana?         0\n",
       "1     Quisiera agendar una cita médica para el marte...         0\n",
       "2     ¿Están disponibles los turnos para el especial...         0\n",
       "3     Necesito una cita con el odontólogo lo antes p...         0\n",
       "4     ¿Podría obtener un horario para una consulta d...         0\n",
       "...                                                 ...       ...\n",
       "1052                  seguro de salud de la institución         5\n",
       "1053  seguro de seguro de salud aceptado por la inst...         5\n",
       "1054  seguro de seguro médico que acepta la institución         5\n",
       "1055       seguro de enfermedad aceptado por la clínica         5\n",
       "1056  seguro de seguro de salud que acepta la instit...         5\n",
       "\n",
       "[1057 rows x 2 columns]"
      ]
     },
     "execution_count": 4,
     "metadata": {},
     "output_type": "execute_result"
    }
   ],
   "source": [
    "indices = {}\n",
    "\n",
    "cont = 0\n",
    "\n",
    "for x in train_dataset['Etiqueta']:\n",
    "    if x not in indices:\n",
    "        indices[x] = cont\n",
    "        cont+=1\n",
    "        \n",
    "train_dataset['Etiqueta'] = train_dataset['Etiqueta'].map(indices)\n",
    "train_dataset"
   ]
  },
  {
   "cell_type": "code",
   "execution_count": 18,
   "metadata": {},
   "outputs": [
    {
     "name": "stderr",
     "output_type": "stream",
     "text": [
      "Some weights of BertForSequenceClassification were not initialized from the model checkpoint at bert-base-uncased and are newly initialized: ['classifier.weight', 'classifier.bias']\n",
      "You should probably TRAIN this model on a down-stream task to be able to use it for predictions and inference.\n"
     ]
    },
    {
     "name": "stdout",
     "output_type": "stream",
     "text": [
      "Epoch 1 Loss: 1.9239706141608102\n",
      "Epoch 2 Loss: 1.5793076838765825\n",
      "Epoch 3 Loss: 1.2317375029836382\n",
      "Epoch 4 Loss: 0.9114630179745811\n",
      "Epoch 5 Loss: 0.6031513065099716\n",
      "Epoch 6 Loss: 0.3611651893172945\n",
      "Epoch 7 Loss: 0.21415184970412934\n",
      "Epoch 8 Loss: 0.1305133748267378\n",
      "Epoch 9 Loss: 0.09164658401693616\n",
      "Epoch 10 Loss: 0.06878492422401905\n",
      "Epoch 1 Loss: 0.05936245433986187\n",
      "Epoch 2 Loss: 0.03958175318049533\n",
      "Epoch 3 Loss: 0.022152102685400417\n",
      "Epoch 4 Loss: 0.01646393264776894\n",
      "Epoch 5 Loss: 0.012859796107347523\n",
      "Epoch 6 Loss: 0.01262057589233986\n",
      "Epoch 7 Loss: 0.015146627756101745\n",
      "Epoch 8 Loss: 0.0131311495123165\n",
      "Epoch 9 Loss: 0.010550599345671279\n",
      "Epoch 10 Loss: 0.017245543355654393\n",
      "Epoch 1 Loss: 0.005472886043467692\n",
      "Epoch 2 Loss: 0.004240743865791176\n",
      "Epoch 3 Loss: 0.002234991506806442\n",
      "Epoch 4 Loss: 0.0017115176555567554\n",
      "Epoch 5 Loss: 0.0044406307112824705\n",
      "Epoch 6 Loss: 0.00962656841147691\n",
      "Epoch 7 Loss: 0.0021712370882076876\n",
      "Epoch 8 Loss: 0.010349072831948953\n",
      "Epoch 9 Loss: 0.008592298113009227\n",
      "Epoch 10 Loss: 0.004683182599754738\n",
      "Epoch 1 Loss: 0.0006761240739641445\n",
      "Epoch 2 Loss: 0.00037512843638458956\n",
      "Epoch 3 Loss: 0.00025273636856582016\n",
      "Epoch 4 Loss: 0.0001887170915974171\n",
      "Epoch 5 Loss: 0.00014974834006612321\n",
      "Epoch 6 Loss: 0.0001240739984496031\n",
      "Epoch 7 Loss: 0.00010505203265763287\n",
      "Epoch 8 Loss: 9.086211243162065e-05\n",
      "Epoch 9 Loss: 7.919279856391117e-05\n",
      "Epoch 10 Loss: 7.117537305540671e-05\n"
     ]
    },
    {
     "data": {
      "text/plain": [
       "('asistente\\\\tokenizer_config.json',\n",
       " 'asistente\\\\special_tokens_map.json',\n",
       " 'asistente\\\\vocab.txt',\n",
       " 'asistente\\\\added_tokens.json')"
      ]
     },
     "execution_count": 18,
     "metadata": {},
     "output_type": "execute_result"
    }
   ],
   "source": [
    "\n",
    "# Configurar el modelo y el tokenizer\n",
    "model = BertForSequenceClassification.from_pretrained('bert-base-uncased', num_labels=8)\n",
    "tokenizer = BertTokenizer.from_pretrained('bert-base-uncased')\n",
    "\n",
    "device = torch.device(\"cuda\" if torch.cuda.is_available() else \"cpu\")\n",
    "model.to(device)\n",
    "\n",
    "# Configurar la validación cruzada K-Fold\n",
    "kfold = KFold(n_splits=4, shuffle=True, random_state=42)\n",
    "\n",
    "# Entrenamiento del modelo en cada fold\n",
    "for train_index, val_index in kfold.split(train_dataset):\n",
    "    train_data, val_data = train_dataset.iloc[train_index], train_dataset.iloc[val_index]\n",
    "    \n",
    "    \n",
    "    # Procesamiento de los datos de entrenamiento\n",
    "    train_encodings = tokenizer(train_dataset['Texto'].tolist(), truncation=True, padding=True, return_tensors='pt').to(device)\n",
    "    train_labels = torch.tensor(train_dataset['Etiqueta'].tolist()).to(device)\n",
    "\n",
    "\n",
    "    # Ajustar el modelo con los datos de entrenamiento\n",
    "    model.train()\n",
    "    optimizer = torch.optim.Adam(model.parameters(), lr=2e-5)  # Ajusta el learning rate\n",
    "    criterion = torch.nn.CrossEntropyLoss()  # Define la función de pérdida\n",
    "\n",
    "    batch_size = 80  # Tamaño del batch\n",
    "    num_epochs = 10  # Número de epochs\n",
    "\n",
    "    train_loader = torch.utils.data.DataLoader(list(zip(train_encodings['input_ids'], train_encodings['attention_mask'], train_labels)), batch_size=batch_size, shuffle=True)\n",
    "\n",
    "    for epoch in range(num_epochs):\n",
    "        epoch_loss = 0.0\n",
    "        for batch in train_loader:\n",
    "            optimizer.zero_grad()\n",
    "            input_ids, attention_mask, labels = batch[0].to(device), batch[1].to(device), batch[2].to(device)\n",
    "            outputs = model(input_ids=input_ids, attention_mask=attention_mask, labels=labels) \n",
    "            loss = outputs.loss\n",
    "            loss.backward()\n",
    "            optimizer.step()\n",
    "            epoch_loss += loss.item()\n",
    "         \n",
    "        print(f\"Epoch {epoch+1} Loss: {epoch_loss / len(train_loader)}\")\n",
    "\n",
    "model.save_pretrained('asistente') # ruta para guardar el modelo\n",
    "tokenizer.save_pretrained('asistente') # ruta para guardar el tokenizer del modelo"
   ]
  },
  {
   "cell_type": "code",
   "execution_count": 19,
   "metadata": {},
   "outputs": [
    {
     "name": "stdout",
     "output_type": "stream",
     "text": [
      "tensor(0)\n"
     ]
    }
   ],
   "source": [
    "# Ruta donde has guardado el modelo\n",
    "ruta_del_modelo = \"asistente\"\n",
    "\n",
    "# Cargar el modelo y el tokenizador\n",
    "model = BertForSequenceClassification.from_pretrained(ruta_del_modelo)\n",
    "tokenizer = BertTokenizer.from_pretrained(ruta_del_modelo)\n",
    "\n",
    "# Ejemplo de nueva entrada para hacer predicciones\n",
    "nuevo_texto = \"Quiero un turno\"\n",
    "\n",
    "# Tokenizar el texto de entrada\n",
    "inputs = tokenizer(nuevo_texto, truncation=True, padding=True, return_tensors='pt')\n",
    "\n",
    "# Obtener las predicciones del modelo\n",
    "model.eval()\n",
    "with torch.no_grad():\n",
    "    outputs = model(**inputs)\n",
    "    predictions = outputs.logits\n",
    "\n",
    "# Aplicar la función softmax a los logits para obtener probabilidades\n",
    "probabilities = F.softmax(predictions, dim=1)\n",
    "\n",
    "etiqueta_idx = torch.argmax(probabilities)\n",
    "\n",
    "print(etiqueta_idx)"
   ]
  },
  {
   "cell_type": "code",
   "execution_count": 20,
   "metadata": {},
   "outputs": [],
   "source": [
    "def intencion(texto):\n",
    "    alm = {v: k for k, v in indices.items()}\n",
    "    inputs = tokenizer(texto, truncation=True, padding=True, return_tensors='pt')\n",
    "\n",
    "    # Obtener las predicciones del modelo\n",
    "    model.eval()\n",
    "    with torch.no_grad():\n",
    "        outputs = model(**inputs)\n",
    "        predictions = outputs.logits\n",
    "\n",
    "    # Aplicar la función softmax a los logits para obtener probabilidades\n",
    "    probabilities = F.softmax(predictions, dim=1)\n",
    "\n",
    "    etiqueta_idx = torch.argmax(probabilities)\n",
    "    \n",
    "    return alm[etiqueta_idx.item()]"
   ]
  },
  {
   "cell_type": "code",
   "execution_count": 25,
   "metadata": {},
   "outputs": [],
   "source": [
    "consultas = {\n",
    "    'consulta_turno': [\n",
    "        '¿Puedo obtener un turno para una consulta con el Dr. Smith?',\n",
    "        'Quisiera programar una cita médica para el próximo lunes, ¿es posible?',\n",
    "        '¿Están disponibles los turnos para pediatría mañana por la tarde?'\n",
    "    ],\n",
    "    'pregunta_horario': [\n",
    "        '¿Cuál es el horario de atención del departamento de emergencias?',\n",
    "        '¿A qué hora abre la clínica los sábados?',\n",
    "        '¿Hasta qué hora están recibiendo pacientes hoy?'\n",
    "    ],\n",
    "    'pregunta_especialidad': [\n",
    "        '¿Podrían decirme si tienen un especialista en cardiología disponible?',\n",
    "        '¿Quién es el neurólogo de guardia hoy?',\n",
    "        '¿Tienen médicos especializados en traumatología?'\n",
    "    ],\n",
    "    'consulta_resultados': [\n",
    "        'Me gustaría saber si mis resultados de análisis de sangre ya están disponibles.',\n",
    "        '¿Dónde puedo ver los resultados de mi radiografía?',\n",
    "        '¿Los resultados de mi ecografía ya están listos?'\n",
    "    ],\n",
    "    'pregunta_receta': [\n",
    "        '¿Puedo solicitar una receta para mi medicamento?',\n",
    "        'Necesito una receta para renovar mi medicación, ¿cómo puedo obtenerla?',\n",
    "        '¿El médico puede enviarme la receta por correo electrónico?'\n",
    "    ],\n",
    "    'consulta_seguro': [\n",
    "        '¿Aceptan mi seguro médico para consultas en esta clínica?',\n",
    "        '¿Qué tipos de seguros médicos son aceptados aquí?',\n",
    "        '¿Pueden informarme sobre los procedimientos cubiertos por mi seguro de salud?'\n",
    "    ]}\n"
   ]
  },
  {
   "cell_type": "code",
   "execution_count": 26,
   "metadata": {},
   "outputs": [
    {
     "data": {
      "text/plain": [
       "{'consulta_turno': 0,\n",
       " 'pregunta_horario': 1,\n",
       " 'pregunta_especialidad': 2,\n",
       " 'consulta_resultados': 3,\n",
       " 'pregunta_receta': 4,\n",
       " 'consulta_seguro': 5}"
      ]
     },
     "execution_count": 26,
     "metadata": {},
     "output_type": "execute_result"
    }
   ],
   "source": [
    "indices"
   ]
  },
  {
   "cell_type": "code",
   "execution_count": 27,
   "metadata": {},
   "outputs": [
    {
     "name": "stdout",
     "output_type": "stream",
     "text": [
      "consulta_turno  :  Prediccion :  consulta_turno  |  ¿Puedo obtener un turno para una consulta con el Dr. Smith?\n",
      "consulta_turno  :  Prediccion :  consulta_turno  |  Quisiera programar una cita médica para el próximo lunes, ¿es posible?\n",
      "consulta_turno  :  Prediccion :  consulta_turno  |  ¿Están disponibles los turnos para pediatría mañana por la tarde?\n",
      "pregunta_horario  :  Prediccion :  pregunta_horario  |  ¿Cuál es el horario de atención del departamento de emergencias?\n",
      "pregunta_horario  :  Prediccion :  consulta_seguro  |  ¿A qué hora abre la clínica los sábados?\n",
      "pregunta_horario  :  Prediccion :  pregunta_horario  |  ¿Hasta qué hora están recibiendo pacientes hoy?\n",
      "pregunta_especialidad  :  Prediccion :  consulta_turno  |  ¿Podrían decirme si tienen un especialista en cardiología disponible?\n",
      "pregunta_especialidad  :  Prediccion :  consulta_turno  |  ¿Quién es el neurólogo de guardia hoy?\n",
      "pregunta_especialidad  :  Prediccion :  pregunta_especialidad  |  ¿Tienen médicos especializados en traumatología?\n",
      "consulta_resultados  :  Prediccion :  consulta_resultados  |  Me gustaría saber si mis resultados de análisis de sangre ya están disponibles.\n",
      "consulta_resultados  :  Prediccion :  consulta_resultados  |  ¿Dónde puedo ver los resultados de mi radiografía?\n",
      "consulta_resultados  :  Prediccion :  consulta_resultados  |  ¿Los resultados de mi ecografía ya están listos?\n",
      "pregunta_receta  :  Prediccion :  pregunta_receta  |  ¿Puedo solicitar una receta para mi medicamento?\n",
      "pregunta_receta  :  Prediccion :  pregunta_receta  |  Necesito una receta para renovar mi medicación, ¿cómo puedo obtenerla?\n",
      "pregunta_receta  :  Prediccion :  pregunta_receta  |  ¿El médico puede enviarme la receta por correo electrónico?\n",
      "consulta_seguro  :  Prediccion :  consulta_seguro  |  ¿Aceptan mi seguro médico para consultas en esta clínica?\n",
      "consulta_seguro  :  Prediccion :  consulta_seguro  |  ¿Qué tipos de seguros médicos son aceptados aquí?\n",
      "consulta_seguro  :  Prediccion :  consulta_seguro  |  ¿Pueden informarme sobre los procedimientos cubiertos por mi seguro de salud?\n"
     ]
    }
   ],
   "source": [
    "for x,y in consultas.items():\n",
    "    for e in y:\n",
    "        print(x,' : ','Prediccion : ',intencion(e), ' | ',e)"
   ]
  },
  {
   "cell_type": "code",
   "execution_count": 31,
   "metadata": {},
   "outputs": [
    {
     "data": {
      "text/plain": [
       "'consulta_turno'"
      ]
     },
     "execution_count": 31,
     "metadata": {},
     "output_type": "execute_result"
    }
   ],
   "source": [
    "intencion('Atienden la obra social accord?')"
   ]
  },
  {
   "cell_type": "code",
   "execution_count": null,
   "metadata": {},
   "outputs": [],
   "source": []
  }
 ],
 "metadata": {
  "kernelspec": {
   "display_name": "venv",
   "language": "python",
   "name": "python3"
  },
  "language_info": {
   "codemirror_mode": {
    "name": "ipython",
    "version": 3
   },
   "file_extension": ".py",
   "mimetype": "text/x-python",
   "name": "python",
   "nbconvert_exporter": "python",
   "pygments_lexer": "ipython3",
   "version": "3.11.7"
  }
 },
 "nbformat": 4,
 "nbformat_minor": 2
}
